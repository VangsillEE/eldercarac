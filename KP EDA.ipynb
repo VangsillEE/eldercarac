{
 "cells": [
  {
   "cell_type": "code",
   "execution_count": 1,
   "metadata": {},
   "outputs": [],
   "source": [
    "import pandas as pd\n",
    "import numpy as np\n",
    "import matplotlib.pyplot as plt\n",
    "import glob\n",
    "import os"
   ]
  },
  {
   "cell_type": "code",
   "execution_count": 2,
   "metadata": {},
   "outputs": [
    {
     "data": {
      "text/plain": [
       "['./data\\\\codeBook_v3.xlsx',\n",
       " './data\\\\KP2020.csv',\n",
       " './data\\\\KP2021.csv',\n",
       " './data\\\\NPA2020.csv']"
      ]
     },
     "execution_count": 2,
     "metadata": {},
     "output_type": "execute_result"
    }
   ],
   "source": [
    "f_path = glob.glob(\"./data/*\")\n",
    "f_path"
   ]
  },
  {
   "cell_type": "code",
   "execution_count": 3,
   "metadata": {},
   "outputs": [
    {
     "data": {
      "text/plain": [
       "['codeBook_v3', 'KP2020', 'KP2021', 'NPA2020']"
      ]
     },
     "execution_count": 3,
     "metadata": {},
     "output_type": "execute_result"
    }
   ],
   "source": [
    "file_names = []\n",
    "for name in os.listdir(\"D:/WORK/수원대학교/BDAA 학회/2023년 지역 치안 안전 데이터 분석 공모전 개최/data/\"):\n",
    "    file_names.append(name.split('.')[0])\n",
    "file_names"
   ]
  },
  {
   "cell_type": "code",
   "execution_count": 4,
   "metadata": {},
   "outputs": [],
   "source": [
    "codeBook_v3 = pd.read_excel(\"D:/WORK/수원대학교/BDAA 학회/2023년 지역 치안 안전 데이터 분석 공모전 개최/data/codeBook_v3.xlsx\")\n",
    "KP2020 = pd.read_csv(\"D:/WORK/수원대학교/BDAA 학회/2023년 지역 치안 안전 데이터 분석 공모전 개최/data/KP2020.csv\", encoding='cp949')\n",
    "KP2021 = pd.read_csv(\"D:/WORK/수원대학교/BDAA 학회/2023년 지역 치안 안전 데이터 분석 공모전 개최/data/KP2021.csv\", encoding='cp949')\n",
    "NPA2020 = pd.read_csv(\"D:/WORK/수원대학교/BDAA 학회/2023년 지역 치안 안전 데이터 분석 공모전 개최/data/NPA2020.csv\", encoding='cp949')\n"
   ]
  },
  {
   "cell_type": "code",
   "execution_count": 5,
   "metadata": {},
   "outputs": [],
   "source": [
    "tmp1 = NPA2020.drop(\"RECV_CPLT_TM\",axis=1)\n",
    "tmp1.columns = KP2020.drop(\"RECV_DEPT_NM\",axis=1).columns\n",
    "data_2020 = pd.concat([tmp1, KP2020.drop(\"RECV_DEPT_NM\",axis=1)])"
   ]
  },
  {
   "cell_type": "code",
   "execution_count": 6,
   "metadata": {},
   "outputs": [],
   "source": [
    "data_2021 = KP2021.drop(\"RECV_DEPT_NM\",axis=1).copy()"
   ]
  },
  {
   "cell_type": "code",
   "execution_count": 7,
   "metadata": {},
   "outputs": [
    {
     "data": {
      "text/html": [
       "<div>\n",
       "<style scoped>\n",
       "    .dataframe tbody tr th:only-of-type {\n",
       "        vertical-align: middle;\n",
       "    }\n",
       "\n",
       "    .dataframe tbody tr th {\n",
       "        vertical-align: top;\n",
       "    }\n",
       "\n",
       "    .dataframe thead th {\n",
       "        text-align: right;\n",
       "    }\n",
       "</style>\n",
       "<table border=\"1\" class=\"dataframe\">\n",
       "  <thead>\n",
       "    <tr style=\"text-align: right;\">\n",
       "      <th></th>\n",
       "      <th>RECV_CPLT_DM</th>\n",
       "      <th>NPA_CL</th>\n",
       "      <th>EVT_STAT_CD</th>\n",
       "      <th>EVT_CL_CD</th>\n",
       "      <th>RPTER_SEX</th>\n",
       "      <th>HPPN_PNU_ADDR</th>\n",
       "      <th>HPPN_X</th>\n",
       "      <th>HPPN_Y</th>\n",
       "      <th>SME_EVT_YN</th>\n",
       "    </tr>\n",
       "  </thead>\n",
       "  <tbody>\n",
       "    <tr>\n",
       "      <th>0</th>\n",
       "      <td>20200101</td>\n",
       "      <td>13</td>\n",
       "      <td>10</td>\n",
       "      <td>501</td>\n",
       "      <td>2</td>\n",
       "      <td>대전광역시 중구 목동(행정:목동) 360</td>\n",
       "      <td>127.409270</td>\n",
       "      <td>36.333010</td>\n",
       "      <td>Y</td>\n",
       "    </tr>\n",
       "    <tr>\n",
       "      <th>1</th>\n",
       "      <td>20200101</td>\n",
       "      <td>13</td>\n",
       "      <td>10</td>\n",
       "      <td>501</td>\n",
       "      <td>1</td>\n",
       "      <td>대전광역시 중구 대흥동(대흥동) 499-1</td>\n",
       "      <td>127.421295</td>\n",
       "      <td>36.325575</td>\n",
       "      <td>NaN</td>\n",
       "    </tr>\n",
       "    <tr>\n",
       "      <th>2</th>\n",
       "      <td>20200101</td>\n",
       "      <td>13</td>\n",
       "      <td>10</td>\n",
       "      <td>501</td>\n",
       "      <td>1</td>\n",
       "      <td>NaN</td>\n",
       "      <td>127.404663</td>\n",
       "      <td>36.341685</td>\n",
       "      <td>NaN</td>\n",
       "    </tr>\n",
       "    <tr>\n",
       "      <th>3</th>\n",
       "      <td>20200101</td>\n",
       "      <td>13</td>\n",
       "      <td>10</td>\n",
       "      <td>601</td>\n",
       "      <td>3</td>\n",
       "      <td>NaN</td>\n",
       "      <td>0.000000</td>\n",
       "      <td>0.000000</td>\n",
       "      <td>NaN</td>\n",
       "    </tr>\n",
       "    <tr>\n",
       "      <th>4</th>\n",
       "      <td>20200101</td>\n",
       "      <td>13</td>\n",
       "      <td>10</td>\n",
       "      <td>601</td>\n",
       "      <td>1</td>\n",
       "      <td>NaN</td>\n",
       "      <td>127.404663</td>\n",
       "      <td>36.341685</td>\n",
       "      <td>NaN</td>\n",
       "    </tr>\n",
       "    <tr>\n",
       "      <th>...</th>\n",
       "      <td>...</td>\n",
       "      <td>...</td>\n",
       "      <td>...</td>\n",
       "      <td>...</td>\n",
       "      <td>...</td>\n",
       "      <td>...</td>\n",
       "      <td>...</td>\n",
       "      <td>...</td>\n",
       "      <td>...</td>\n",
       "    </tr>\n",
       "    <tr>\n",
       "      <th>3849376</th>\n",
       "      <td>23/01/12 11:23:09.000000000</td>\n",
       "      <td>13</td>\n",
       "      <td>10</td>\n",
       "      <td>104</td>\n",
       "      <td>1.0</td>\n",
       "      <td>대전광역시 유성구 봉명동 (행정:원신흥동 ) 1016-7</td>\n",
       "      <td>127.344600</td>\n",
       "      <td>36.352272</td>\n",
       "      <td>NaN</td>\n",
       "    </tr>\n",
       "    <tr>\n",
       "      <th>3849377</th>\n",
       "      <td>23/01/16 11:59:47.000000000</td>\n",
       "      <td>19</td>\n",
       "      <td>10</td>\n",
       "      <td>307</td>\n",
       "      <td>2.0</td>\n",
       "      <td>충청남도 서산시 음암면 부장리(음암면 ) 560-4</td>\n",
       "      <td>126.514047</td>\n",
       "      <td>36.785626</td>\n",
       "      <td>NaN</td>\n",
       "    </tr>\n",
       "    <tr>\n",
       "      <th>3849378</th>\n",
       "      <td>23/01/16 11:58:54.000000000</td>\n",
       "      <td>19</td>\n",
       "      <td>10</td>\n",
       "      <td>601</td>\n",
       "      <td>3.0</td>\n",
       "      <td>NaN</td>\n",
       "      <td>NaN</td>\n",
       "      <td>NaN</td>\n",
       "      <td>NaN</td>\n",
       "    </tr>\n",
       "    <tr>\n",
       "      <th>3849379</th>\n",
       "      <td>23/01/14 01:00:47.000000000</td>\n",
       "      <td>19</td>\n",
       "      <td>10</td>\n",
       "      <td>601</td>\n",
       "      <td>3.0</td>\n",
       "      <td>NaN</td>\n",
       "      <td>NaN</td>\n",
       "      <td>NaN</td>\n",
       "      <td>NaN</td>\n",
       "    </tr>\n",
       "    <tr>\n",
       "      <th>3849380</th>\n",
       "      <td>23/01/14 01:22:31.000000000</td>\n",
       "      <td>13</td>\n",
       "      <td>10</td>\n",
       "      <td>606</td>\n",
       "      <td>1.0</td>\n",
       "      <td>NaN</td>\n",
       "      <td>127.404663</td>\n",
       "      <td>36.341685</td>\n",
       "      <td>NaN</td>\n",
       "    </tr>\n",
       "  </tbody>\n",
       "</table>\n",
       "<p>3849381 rows × 9 columns</p>\n",
       "</div>"
      ],
      "text/plain": [
       "                        RECV_CPLT_DM  NPA_CL  EVT_STAT_CD  EVT_CL_CD  \\\n",
       "0                           20200101      13           10        501   \n",
       "1                           20200101      13           10        501   \n",
       "2                           20200101      13           10        501   \n",
       "3                           20200101      13           10        601   \n",
       "4                           20200101      13           10        601   \n",
       "...                              ...     ...          ...        ...   \n",
       "3849376  23/01/12 11:23:09.000000000      13           10        104   \n",
       "3849377  23/01/16 11:59:47.000000000      19           10        307   \n",
       "3849378  23/01/16 11:58:54.000000000      19           10        601   \n",
       "3849379  23/01/14 01:00:47.000000000      19           10        601   \n",
       "3849380  23/01/14 01:22:31.000000000      13           10        606   \n",
       "\n",
       "        RPTER_SEX                    HPPN_PNU_ADDR      HPPN_X     HPPN_Y  \\\n",
       "0               2           대전광역시 중구 목동(행정:목동) 360  127.409270  36.333010   \n",
       "1               1          대전광역시 중구 대흥동(대흥동) 499-1  127.421295  36.325575   \n",
       "2               1                              NaN  127.404663  36.341685   \n",
       "3               3                              NaN    0.000000   0.000000   \n",
       "4               1                              NaN  127.404663  36.341685   \n",
       "...           ...                              ...         ...        ...   \n",
       "3849376       1.0  대전광역시 유성구 봉명동 (행정:원신흥동 ) 1016-7  127.344600  36.352272   \n",
       "3849377       2.0     충청남도 서산시 음암면 부장리(음암면 ) 560-4  126.514047  36.785626   \n",
       "3849378       3.0                              NaN         NaN        NaN   \n",
       "3849379       3.0                              NaN         NaN        NaN   \n",
       "3849380       1.0                              NaN  127.404663  36.341685   \n",
       "\n",
       "        SME_EVT_YN  \n",
       "0                Y  \n",
       "1              NaN  \n",
       "2              NaN  \n",
       "3              NaN  \n",
       "4              NaN  \n",
       "...            ...  \n",
       "3849376        NaN  \n",
       "3849377        NaN  \n",
       "3849378        NaN  \n",
       "3849379        NaN  \n",
       "3849380        NaN  \n",
       "\n",
       "[3849381 rows x 9 columns]"
      ]
     },
     "execution_count": 7,
     "metadata": {},
     "output_type": "execute_result"
    }
   ],
   "source": [
    "data_20t21 = pd.concat([data_2020, data_2021])\n",
    "data_20t21.reset_index(drop=True,inplace = True)\n",
    "data_20t21"
   ]
  },
  {
   "cell_type": "code",
   "execution_count": 11,
   "metadata": {},
   "outputs": [],
   "source": [
    "car_data_20t21 = data_20t21[data_20t21[\"EVT_CL_CD\"] == 401]\n",
    "voice_data_20t21 = data_20t21[data_20t21[\"EVT_CL_CD\"] == 215]\n",
    "car_data_20t21.reset_index(drop=True, inplace=True)"
   ]
  },
  {
   "cell_type": "code",
   "execution_count": 12,
   "metadata": {},
   "outputs": [
    {
     "data": {
      "text/html": [
       "<div>\n",
       "<style scoped>\n",
       "    .dataframe tbody tr th:only-of-type {\n",
       "        vertical-align: middle;\n",
       "    }\n",
       "\n",
       "    .dataframe tbody tr th {\n",
       "        vertical-align: top;\n",
       "    }\n",
       "\n",
       "    .dataframe thead th {\n",
       "        text-align: right;\n",
       "    }\n",
       "</style>\n",
       "<table border=\"1\" class=\"dataframe\">\n",
       "  <thead>\n",
       "    <tr style=\"text-align: right;\">\n",
       "      <th></th>\n",
       "      <th>RECV_CPLT_DM</th>\n",
       "      <th>NPA_CL</th>\n",
       "      <th>EVT_STAT_CD</th>\n",
       "      <th>EVT_CL_CD</th>\n",
       "      <th>RPTER_SEX</th>\n",
       "      <th>HPPN_PNU_ADDR</th>\n",
       "      <th>HPPN_X</th>\n",
       "      <th>HPPN_Y</th>\n",
       "      <th>SME_EVT_YN</th>\n",
       "    </tr>\n",
       "  </thead>\n",
       "  <tbody>\n",
       "    <tr>\n",
       "      <th>3606</th>\n",
       "      <td>20200114</td>\n",
       "      <td>13</td>\n",
       "      <td>10</td>\n",
       "      <td>401</td>\n",
       "      <td>{</td>\n",
       "      <td>NaN</td>\n",
       "      <td>127.404663</td>\n",
       "      <td>36.341685</td>\n",
       "      <td>NaN</td>\n",
       "    </tr>\n",
       "  </tbody>\n",
       "</table>\n",
       "</div>"
      ],
      "text/plain": [
       "     RECV_CPLT_DM  NPA_CL  EVT_STAT_CD  EVT_CL_CD RPTER_SEX HPPN_PNU_ADDR  \\\n",
       "3606     20200114      13           10        401         {           NaN   \n",
       "\n",
       "          HPPN_X     HPPN_Y SME_EVT_YN  \n",
       "3606  127.404663  36.341685        NaN  "
      ]
     },
     "execution_count": 12,
     "metadata": {},
     "output_type": "execute_result"
    }
   ],
   "source": [
    "car_data_20t21[car_data_20t21[\"RPTER_SEX\"] =='{']"
   ]
  },
  {
   "cell_type": "code",
   "execution_count": 13,
   "metadata": {},
   "outputs": [],
   "source": [
    "car_data_20t21.iloc[3606, 4] = 1"
   ]
  },
  {
   "cell_type": "code",
   "execution_count": 21,
   "metadata": {},
   "outputs": [
    {
     "data": {
      "text/plain": [
       "<AxesSubplot:>"
      ]
     },
     "execution_count": 21,
     "metadata": {},
     "output_type": "execute_result"
    },
    {
     "data": {
      "image/png": "[encoded data removed]",
      "text/plain": [
       "<Figure size 432x288 with 1 Axes>"
      ]
     },
     "metadata": {
      "needs_background": "light"
     },
     "output_type": "display_data"
    }
   ],
   "source": [
    "car_data_20t21[\"RPTER_SEX\"].astype(int).value_counts().plot.bar()"
   ]
  }
 ],
 "metadata": {
  "kernelspec": {
   "display_name": "base",
   "language": "python",
   "name": "python3"
  },
  "language_info": {
   "codemirror_mode": {
    "name": "ipython",
    "version": 3
   },
   "file_extension": ".py",
   "mimetype": "text/x-python",
   "name": "python",
   "nbconvert_exporter": "python",
   "pygments_lexer": "ipython3",
   "version": "3.9.12"
  },
  "orig_nbformat": 4,
  "vscode": {
   "interpreter": {
    "hash": "42e27f01b61b9db9b8e37ef119477c1140e145cf056c3c5bd3af721bcc49baa3"
   }
  }
 },
 "nbformat": 4,
 "nbformat_minor": 2
}
